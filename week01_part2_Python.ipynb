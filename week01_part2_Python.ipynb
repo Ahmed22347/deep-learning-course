{
  "nbformat": 4,
  "nbformat_minor": 0,
  "metadata": {
    "colab": {
      "name": "week01_part2_Python.ipynb",
      "version": "0.3.2",
      "provenance": [],
      "collapsed_sections": [],
      "include_colab_link": true
    },
    "kernelspec": {
      "name": "python2",
      "display_name": "Python 2"
    }
  },
  "cells": [
    {
      "cell_type": "markdown",
      "metadata": {
        "id": "view-in-github",
        "colab_type": "text"
      },
      "source": [
        "<a href=\"https://colab.research.google.com/github/MatchLab-Imperial/deep-learning-course/blob/master/week01_part2_Python.ipynb\" target=\"_parent\"><img src=\"https://colab.research.google.com/assets/colab-badge.svg\" alt=\"Open In Colab\"/></a>"
      ]
    },
    {
      "metadata": {
        "colab_type": "text",
        "id": "sWpAGcMXgpd1"
      },
      "cell_type": "markdown",
      "source": [
        "In this lesson, we are going to introduce most important features of NumPy, Pandas, Matplotlib, and Scipy, which are essential tools for data scientists, allowing easier elaboration and visualization of data in Python.\n",
        "\n",
        "---\n",
        "\n"
      ]
    },
    {
      "metadata": {
        "id": "48O3My26gzeu",
        "colab_type": "text"
      },
      "cell_type": "markdown",
      "source": [
        "## **Numpy.** \n",
        "it is an open source package for scientific computing with Python containing:\n",
        "1.   powerful N-dimensional array object;\n",
        "2.   sophisticated (broadcasting) functions;\n",
        "3.   useful functions for integrating C/C++ code;\n",
        "4.   linear algebra and random number capabilities\n",
        "\n",
        "\n",
        "\n",
        "\n",
        "\n"
      ]
    },
    {
      "metadata": {
        "id": "TMbUV9bqhqeW",
        "colab_type": "text"
      },
      "cell_type": "markdown",
      "source": [
        "**ndarray.** An efficient structure for multidimensional array facilitating broadcast and vectorization."
      ]
    },
    {
      "metadata": {
        "id": "q8-RiOvFXlO1",
        "colab_type": "code",
        "colab": {}
      },
      "cell_type": "code",
      "source": [
        "# Initialize an array in Numpy.\n",
        "import numpy as np\n",
        "prime_numbers_0=np.array([2,3,5,7,11,13,17,19],dtype=np.int32)\n",
        "prime_numbers=[2,3,5,7,11,13,17,19]\n",
        "prime_numbers_1=np.array(prime_numbers)\n",
        "prime_numbers_2=np.array(prime_numbers,dtype=np.int32)\n",
        "print(prime_numbers_0)\n",
        "print(prime_numbers_1)\n",
        "print(prime_numbers_2)"
      ],
      "execution_count": 0,
      "outputs": []
    },
    {
      "metadata": {
        "id": "HjHCirflnvCl",
        "colab_type": "code",
        "colab": {}
      },
      "cell_type": "code",
      "source": [
        "# Alternative inizialization methods.\n",
        "mask_1=np.zeros((3,3))\n",
        "mask_2=np.ones((3,3))\n",
        "print(mask_1)\n",
        "print(mask_2)"
      ],
      "execution_count": 0,
      "outputs": []
    },
    {
      "metadata": {
        "id": "e25OHL9KkJow",
        "colab_type": "code",
        "colab": {}
      },
      "cell_type": "code",
      "source": [
        "# Type casting.\n",
        "prime_numbers_2.astype(np.float64)\n"
      ],
      "execution_count": 0,
      "outputs": []
    },
    {
      "metadata": {
        "id": "aTfqVKVMmW6R",
        "colab_type": "code",
        "colab": {}
      },
      "cell_type": "code",
      "source": [
        "# Vectorization examples.\n",
        "sum_of_vectors=prime_numbers_1+prime_numbers_2\n",
        "print(sum_of_vectors)\n",
        "product_of_vector_and_scalar=3*prime_numbers_1\n",
        "print(product_of_vector_and_scalar)\n"
      ],
      "execution_count": 0,
      "outputs": []
    },
    {
      "metadata": {
        "id": "S6jHlidIpWJw",
        "colab_type": "code",
        "colab": {}
      },
      "cell_type": "code",
      "source": [
        "# Example of broadcast operations, e.g, sqrt, log, exp.\n",
        "np.sqrt(sum_of_vectors)\n",
        "\n"
      ],
      "execution_count": 0,
      "outputs": []
    },
    {
      "metadata": {
        "id": "4Ny4iEisqbPZ",
        "colab_type": "code",
        "colab": {}
      },
      "cell_type": "code",
      "source": [
        "# Matrix initizialization and element-wise multiplication.\n",
        "random_matrix=np.random.random((2,3))\n",
        "M*random_matrix"
      ],
      "execution_count": 0,
      "outputs": []
    },
    {
      "metadata": {
        "id": "JlVzh0iNtEO3",
        "colab_type": "code",
        "colab": {}
      },
      "cell_type": "code",
      "source": [
        "# Matrix broadcast multiplication.\n",
        "A=np.random.random((2,2))\n",
        "print(A)\n",
        "A_inv=np.linalg.inv(A) # inverse\n",
        "print(A_inv)\n",
        "A_det=np.linalg.det(A) # determinant\n",
        "print(A_det)\n",
        "A_diag=np.diag(A) # diagonal\n",
        "print(A_diag)\n"
      ],
      "execution_count": 0,
      "outputs": []
    },
    {
      "metadata": {
        "id": "zjhi8d_diFM2",
        "colab_type": "code",
        "colab": {}
      },
      "cell_type": "code",
      "source": [
        "# Linear algebra operations.\n",
        "a=np.array([1,2,3])\n",
        "b=np.array([2,4,6])\n",
        "ab=np.inner(a,b) # inner product\n",
        "ab=a.dot(b)\n",
        "print(ab)\n",
        "ab=np.outer(a,b) # outer product\n",
        "print(ab)\n",
        "\n",
        "\n"
      ],
      "execution_count": 0,
      "outputs": []
    },
    {
      "metadata": {
        "id": "ErEoIO2Hq-R1",
        "colab_type": "text"
      },
      "cell_type": "markdown",
      "source": [
        "## **Pandas.** \n",
        "it stands for Python data analysis library. It is an open source and easy-to-use data structures and data analysis tool.\n",
        "\n",
        "Main distinctive capabilities include:\n",
        "1. a fast and efficient DataFrame object for data manipulation;\n",
        "2. tools for reading and writing data;\n",
        "3. data alignment and integrated handling of missing data;\n",
        "4. high performance merging and joining of data sets;\n",
        "5. hierarchical axis indexing provides an intuitive way of working with high-dimensional data in a lower-dimensional data structure.\n"
      ]
    },
    {
      "metadata": {
        "id": "biwX2vgOvxLq",
        "colab_type": "code",
        "colab": {}
      },
      "cell_type": "code",
      "source": [
        "# Read a file and store its data to a dataframe, which is the data structure to handle 2d data in Panda.\n",
        "import pandas as pd\n",
        "housing=pd.read_csv(\"example.csv\",header=None)\n",
        "print(housing)"
      ],
      "execution_count": 0,
      "outputs": []
    },
    {
      "metadata": {
        "id": "phEYnlT0zS0p",
        "colab_type": "code",
        "colab": {}
      },
      "cell_type": "code",
      "source": [
        "# Get info about the data type.\n",
        "type(housing)"
      ],
      "execution_count": 0,
      "outputs": []
    },
    {
      "metadata": {
        "id": "pbKPpo21zdLY",
        "colab_type": "code",
        "colab": {}
      },
      "cell_type": "code",
      "source": [
        "# Get info about the content of csv file.\n",
        "housing.info()"
      ],
      "execution_count": 0,
      "outputs": []
    },
    {
      "metadata": {
        "id": "GgoZulWzz4cb",
        "colab_type": "code",
        "colab": {}
      },
      "cell_type": "code",
      "source": [
        "# Visualize first two rows.\n",
        "housing.head(2)"
      ],
      "execution_count": 0,
      "outputs": []
    },
    {
      "metadata": {
        "id": "xnuIUFde1Ara",
        "colab_type": "code",
        "outputId": "b899f8c1-2668-49ec-b6af-ae1662a7806f",
        "colab": {
          "base_uri": "https://localhost:8080/",
          "height": 34
        }
      },
      "cell_type": "code",
      "source": [
        "# Convert dataframe to numpy array data structure.\n",
        "H=housing.as_matrix()\n",
        "type(H)"
      ],
      "execution_count": 0,
      "outputs": [
        {
          "output_type": "execute_result",
          "data": {
            "text/plain": [
              "numpy.ndarray"
            ]
          },
          "metadata": {
            "tags": []
          },
          "execution_count": 12
        }
      ]
    },
    {
      "metadata": {
        "id": "UsVH4bRT1maO",
        "colab_type": "code",
        "colab": {}
      },
      "cell_type": "code",
      "source": [
        "# Indexing.\n",
        "# Note that Panda requires only one index, which is related to columns, \n",
        "# in contrast to Numpy allowing multiple indices with the first index referring to rows.\n",
        "housing[1]"
      ],
      "execution_count": 0,
      "outputs": []
    },
    {
      "metadata": {
        "id": "p2_8eWBe2i-E",
        "colab_type": "code",
        "outputId": "6f62064e-eb78-49e6-8bd7-fe2ea85bd81f",
        "colab": {
          "base_uri": "https://localhost:8080/",
          "height": 34
        }
      },
      "cell_type": "code",
      "source": [
        "# Check data type of a dataframe column, which is expected to be series:\n",
        "# while data frames is for 2d data, series is a data structure for 1d data.\n",
        "type(housing[1])"
      ],
      "execution_count": 0,
      "outputs": [
        {
          "output_type": "execute_result",
          "data": {
            "text/plain": [
              "pandas.core.series.Series"
            ]
          },
          "metadata": {
            "tags": []
          },
          "execution_count": 55
        }
      ]
    },
    {
      "metadata": {
        "id": "oyz9t1PJ463M",
        "colab_type": "code",
        "outputId": "a9c3be09-fc96-41aa-aa9d-d99c4728c306",
        "colab": {
          "base_uri": "https://localhost:8080/",
          "height": 187
        }
      },
      "cell_type": "code",
      "source": [
        "# Access to a specific row of a dataframe.\n",
        "housing.iloc[0]"
      ],
      "execution_count": 0,
      "outputs": [
        {
          "output_type": "execute_result",
          "data": {
            "text/plain": [
              "0      -122.0500\n",
              "1        37.3700\n",
              "2        27.0000\n",
              "3      3885.0000\n",
              "4       661.0000\n",
              "5      1537.0000\n",
              "6       606.0000\n",
              "7         6.6085\n",
              "8    344700.0000\n",
              "Name: 0, dtype: float64"
            ]
          },
          "metadata": {
            "tags": []
          },
          "execution_count": 54
        }
      ]
    },
    {
      "metadata": {
        "id": "6KnWrwDl5iEJ",
        "colab_type": "code",
        "colab": {}
      },
      "cell_type": "code",
      "source": [
        "# Access to 0 and 2 columns of a dataframe.\n",
        "housing[[0,2]]"
      ],
      "execution_count": 0,
      "outputs": []
    },
    {
      "metadata": {
        "id": "H_Kq_HqIy10B",
        "colab_type": "code",
        "colab": {}
      },
      "cell_type": "code",
      "source": [
        "# Access to data using some criterions similarly to a query in MySQL:\n",
        "# for example, the following code gives as output all the rows, where the third column is less than 30.\n",
        "# Note that while previously we have seen that Panda indexing refers to colomuns,  \n",
        "# such a logic expression selects rows \n",
        "housing[ housing[2] < 30 ]\n"
      ],
      "execution_count": 0,
      "outputs": []
    },
    {
      "metadata": {
        "id": "EZ4DzTBy6OGn",
        "colab_type": "code",
        "colab": {}
      },
      "cell_type": "code",
      "source": [
        "# Skip 1 row in the footer while reading input file.\n",
        "# This is particularly usefull when there is irrilevant content in the footer.\n",
        "housing=pd.read_csv(\"example_1.csv\",engine='python',skipfooter=1)\n",
        "print(housing)\n"
      ],
      "execution_count": 0,
      "outputs": []
    },
    {
      "metadata": {
        "id": "05ICIcqF4-qS",
        "colab_type": "code",
        "outputId": "eb39569a-3cfb-44c1-e09c-e2ff30b4f96c",
        "colab": {
          "base_uri": "https://localhost:8080/",
          "height": 85
        }
      },
      "cell_type": "code",
      "source": [
        "# In same cases it may be necessary to rename column names, \n",
        "# for example, to make them shorter and more readable like in the following case ..\n",
        "housing.columns"
      ],
      "execution_count": 0,
      "outputs": [
        {
          "output_type": "execute_result",
          "data": {
            "text/plain": [
              "Index([u'longitude', u'latitude', u'housing median age', u'total of rooms',\n",
              "       u'total of bedrooms', u'population', u'households', u'median income',\n",
              "       u'median value of house'],\n",
              "      dtype='object')"
            ]
          },
          "metadata": {
            "tags": []
          },
          "execution_count": 42
        }
      ]
    },
    {
      "metadata": {
        "id": "VXeIaw985-oM",
        "colab_type": "code",
        "colab": {}
      },
      "cell_type": "code",
      "source": [
        "# Rename column names.\n",
        "housing.columns=[\"long\",\"lat\",\"median_age\",\"tot_rooms\",\"total_bedrooms\",\"populat\",\"households\",\"median_income\",\"media_value\"]\n",
        "housing['media_value']"
      ],
      "execution_count": 0,
      "outputs": []
    },
    {
      "metadata": {
        "id": "jz_2ug4oCavp",
        "colab_type": "code",
        "colab": {}
      },
      "cell_type": "code",
      "source": [
        "# Panda include some tools to make sophisticate operations with data, i.e., apply() function.\n",
        "# apply() can be used either to process specific rows\n",
        "housing['media_value']=housing.apply(lambda row: row['media_value']+row['median_age']*10,axis=1)\n",
        "print(housing['media_value'])\n",
        "\n"
      ],
      "execution_count": 0,
      "outputs": []
    },
    {
      "metadata": {
        "id": "dWFoUiMzIbKy",
        "colab_type": "code",
        "outputId": "a44ade8c-8680-41b5-eccf-f063e48c5aac",
        "colab": {
          "base_uri": "https://localhost:8080/",
          "height": 187
        }
      },
      "cell_type": "code",
      "source": [
        "# or to apply a global operation to dataframe.\n",
        "import numpy as np\n",
        "housing=housing.apply(np.max,axis=0)\n",
        "print(housing)"
      ],
      "execution_count": 0,
      "outputs": [
        {
          "output_type": "stream",
          "text": [
            "long                -114.4900\n",
            "lat                   41.9200\n",
            "median_age            52.0000\n",
            "tot_rooms          30450.0000\n",
            "total_bedrooms      5419.0000\n",
            "populat            11935.0000\n",
            "households          4930.0000\n",
            "median_income         15.0001\n",
            "media_value       499901.0000\n",
            "dtype: float64\n"
          ],
          "name": "stdout"
        }
      ]
    },
    {
      "metadata": {
        "id": "Pg4a-k70aLsI",
        "colab_type": "text"
      },
      "cell_type": "markdown",
      "source": [
        "## **Matplotlib** \n",
        "It is a Python 2D plotting library which produces graphs in a variety of formats and interactive environments across platforms\n",
        "Matplotlib allows to generate plots, histograms, power spectra, bar charts, errorcharts, scatterplots, etc., with just a few lines of code.\n",
        "\n",
        "\n",
        "\n",
        "\n",
        "\n"
      ]
    },
    {
      "metadata": {
        "id": "2ePBnB4Ib_jW",
        "colab_type": "code",
        "outputId": "abe32290-8391-4195-eff3-004ba1c7da2c",
        "colab": {
          "base_uri": "https://localhost:8080/",
          "height": 376
        }
      },
      "cell_type": "code",
      "source": [
        "# Plot a graph.\n",
        "import matplotlib.pyplot as plt\n",
        "import numpy as np\n",
        "x= np.linspace(1*-2*np.pi,2*np.pi,100)\n",
        "y= np.sin(x)\n",
        "plt.plot(x,y)\n",
        "plt.xlabel('x')\n",
        "plt.ylabel('sin(x)')\n",
        "plt.title('My first graph')\n",
        "plt.show()"
      ],
      "execution_count": 0,
      "outputs": [
        {
          "output_type": "display_data",
          "data": {
            "image/png": "[encoded data removed]",
            "text/plain": [
              "<matplotlib.figure.Figure at 0x7f9b9c434090>"
            ]
          },
          "metadata": {
            "tags": []
          }
        }
      ]
    },
    {
      "metadata": {
        "id": "IJRT6Cf0fXe-",
        "colab_type": "code",
        "outputId": "18fc5a76-25d6-4244-e0ba-19c024b7ec10",
        "colab": {
          "base_uri": "https://localhost:8080/",
          "height": 410
        }
      },
      "cell_type": "code",
      "source": [
        "# Scatter.\n",
        "import pandas as pd\n",
        "housing=pd.read_csv(\"example.csv\",header=None).as_matrix()\n",
        "x=housing[:,0]\n",
        "y=housing[:,1]\n",
        "print(x)\n",
        "print(y)\n",
        "plt.scatter(x,y)\n",
        "plt.xlabel('longitude')\n",
        "plt.ylabel('latitude')\n",
        "plt.title('latitude')\n",
        "plt.show()\n"
      ],
      "execution_count": 0,
      "outputs": [
        {
          "output_type": "stream",
          "text": [
            "[-122.05 -118.3  -117.81 ... -119.7  -117.12 -119.63]\n",
            "[37.37 34.26 33.78 ... 36.3  34.1  34.42]\n"
          ],
          "name": "stdout"
        },
        {
          "output_type": "display_data",
          "data": {
            "image/png": "[encoded data removed]",
            "text/plain": [
              "<matplotlib.figure.Figure at 0x7f9b9a194d90>"
            ]
          },
          "metadata": {
            "tags": []
          }
        }
      ]
    },
    {
      "metadata": {
        "id": "wzOsZns_ilGU",
        "colab_type": "code",
        "outputId": "237ee246-60c7-434b-c60e-e4308420a4bd",
        "colab": {
          "base_uri": "https://localhost:8080/",
          "height": 650
        }
      },
      "cell_type": "code",
      "source": [
        "# Plot histograms.\n",
        "population=housing[:,5]\n",
        "plt.xlabel('population')\n",
        "plt.ylabel('count')\n",
        "plt.hist(population,bins=50)\n",
        "\n"
      ],
      "execution_count": 0,
      "outputs": [
        {
          "output_type": "execute_result",
          "data": {
            "text/plain": [
              "(array([ 95., 182., 350., 501., 433., 341., 277., 214., 158., 106.,  75.,\n",
              "         68.,  33.,  26.,  33.,  24.,  17.,  15.,   7.,   5.,   9.,   2.,\n",
              "          4.,   2.,   2.,   1.,   3.,   1.,   1.,   0.,   4.,   4.,   0.,\n",
              "          0.,   1.,   0.,   2.,   0.,   0.,   1.,   0.,   0.,   0.,   0.,\n",
              "          0.,   1.,   1.,   0.,   0.,   1.]),\n",
              " array([5.00000e+00, 2.43600e+02, 4.82200e+02, 7.20800e+02, 9.59400e+02,\n",
              "        1.19800e+03, 1.43660e+03, 1.67520e+03, 1.91380e+03, 2.15240e+03,\n",
              "        2.39100e+03, 2.62960e+03, 2.86820e+03, 3.10680e+03, 3.34540e+03,\n",
              "        3.58400e+03, 3.82260e+03, 4.06120e+03, 4.29980e+03, 4.53840e+03,\n",
              "        4.77700e+03, 5.01560e+03, 5.25420e+03, 5.49280e+03, 5.73140e+03,\n",
              "        5.97000e+03, 6.20860e+03, 6.44720e+03, 6.68580e+03, 6.92440e+03,\n",
              "        7.16300e+03, 7.40160e+03, 7.64020e+03, 7.87880e+03, 8.11740e+03,\n",
              "        8.35600e+03, 8.59460e+03, 8.83320e+03, 9.07180e+03, 9.31040e+03,\n",
              "        9.54900e+03, 9.78760e+03, 1.00262e+04, 1.02648e+04, 1.05034e+04,\n",
              "        1.07420e+04, 1.09806e+04, 1.12192e+04, 1.14578e+04, 1.16964e+04,\n",
              "        1.19350e+04]),\n",
              " <a list of 50 Patch objects>)"
            ]
          },
          "metadata": {
            "tags": []
          },
          "execution_count": 82
        },
        {
          "output_type": "display_data",
          "data": {
            "image/png": "[encoded data removed]",
            "text/plain": [
              "<matplotlib.figure.Figure at 0x7f9b9c402490>"
            ]
          },
          "metadata": {
            "tags": []
          }
        }
      ]
    },
    {
      "metadata": {
        "id": "kUwmPVVqiru2",
        "colab_type": "code",
        "outputId": "d0cbfe1b-a4d6-4a35-c33f-19c63a38311c",
        "colab": {
          "base_uri": "https://localhost:8080/",
          "height": 351
        }
      },
      "cell_type": "code",
      "source": [
        "# Visualizing images.\n",
        "import matplotlib.image as mpimg\n",
        "img=mpimg.imread('ladybird.png')\n",
        "imgplot = plt.imshow(img)"
      ],
      "execution_count": 0,
      "outputs": [
        {
          "output_type": "display_data",
          "data": {
            "image/png": "[encoded data removed]",
            "text/plain": [
              "<matplotlib.figure.Figure at 0x7f9b99ef42d0>"
            ]
          },
          "metadata": {
            "tags": []
          }
        }
      ]
    }
  ]
}