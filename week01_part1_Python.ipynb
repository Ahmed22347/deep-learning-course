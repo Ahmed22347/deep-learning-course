{
  "nbformat": 4,
  "nbformat_minor": 0,
  "metadata": {
    "colab": {
      "name": "week01_part1_Python.ipynb",
      "version": "0.3.2",
      "provenance": [],
      "collapsed_sections": [],
      "include_colab_link": true
    },
    "kernelspec": {
      "name": "python2",
      "display_name": "Python 2"
    }
  },
  "cells": [
    {
      "cell_type": "markdown",
      "metadata": {
        "id": "view-in-github",
        "colab_type": "text"
      },
      "source": [
        "<a href=\"https://colab.research.google.com/github/MatchLab-Imperial/deep-learning-course/blob/master/week01_part1_Python.ipynb\" target=\"_parent\"><img src=\"https://colab.research.google.com/assets/colab-badge.svg\" alt=\"Open In Colab\"/></a>"
      ]
    },
    {
      "metadata": {
        "id": "nw3aSqi7FUjB",
        "colab_type": "text"
      },
      "cell_type": "markdown",
      "source": [
        "\n",
        "# Introduction to Python\n",
        "\n",
        "In this tutorial, we introduce some basic concepts about Python (version 2.7), the programming language we will use for the rest of deep learning course.\n",
        "\n",
        "In contrast with compiled languages, e.g, C, Java, where instructions in the source code are translated in a lower-level language before to be run, Python is an interpreted language and instructions are directly executed without any intermediate steps.\n",
        "\n",
        "*   **Pro**: platform independence, easy of debugging, rapid prototyping\n",
        "*   **Cons**: lower execution speed\n",
        "\n",
        "Python interpreter can be invoked anytime on the command line by typing “Python”. Then, it will execute each statement that you type on the command line followed by “enter”. In a Jupyter Notebook like this, you can create a new code cell and write a piece of code, and when you run the cell you can also see the output, like in this example."
      ]
    },
    {
      "metadata": {
        "id": "a1neDMAqFjn_",
        "colab_type": "code",
        "colab": {}
      },
      "cell_type": "code",
      "source": [
        "print ('Hello world!')"
      ],
      "execution_count": 0,
      "outputs": []
    },
    {
      "metadata": {
        "id": "JctnCNL5KOXE",
        "colab_type": "text"
      },
      "cell_type": "markdown",
      "source": [
        "If you are in the Python interpreter mode, you can simply type exit() to exit it. We will use Jupyter Notebooks for the tutorials as we can integrate code and visualizations in the same document, but you can write instructions on a .py file by using your favourite text editor and run it. For example, you could write hello_world.py and next execute it from the terminal with python hello_world.py. \n",
        "\n",
        "## Data type\n",
        "\n",
        "Everything in Python is an object with a type and correspondent data. Some types are:\n",
        "\n",
        "* **Numeric type:** None, str, unicode, float (64 bit), bool, int, long\n",
        "* **String**\n",
        "* **Boolean:** True, False\n",
        "\n",
        "Python is dynamically but strongly typed. In a strongly typed language you cannot perform operations not compatible with the data type, e.g.:"
      ]
    },
    {
      "metadata": {
        "id": "xCKF_BvINBXF",
        "colab_type": "code",
        "outputId": "7742bb23-d654-4c4e-8d1a-694999c18586",
        "colab": {
          "base_uri": "https://localhost:8080/",
          "height": 197
        }
      },
      "cell_type": "code",
      "source": [
        "a = 10\n",
        "b = '3'\n",
        "print(a + b)"
      ],
      "execution_count": 0,
      "outputs": [
        {
          "output_type": "error",
          "ename": "TypeError",
          "evalue": "ignored",
          "traceback": [
            "\u001b[0;31m\u001b[0m",
            "\u001b[0;31mTypeError\u001b[0mTraceback (most recent call last)",
            "\u001b[0;32m<ipython-input-2-996ce71e8773>\u001b[0m in \u001b[0;36m<module>\u001b[0;34m()\u001b[0m\n\u001b[1;32m      1\u001b[0m \u001b[0ma\u001b[0m \u001b[0;34m=\u001b[0m \u001b[0;36m10\u001b[0m\u001b[0;34m\u001b[0m\u001b[0m\n\u001b[1;32m      2\u001b[0m \u001b[0mb\u001b[0m \u001b[0;34m=\u001b[0m \u001b[0;34m'3'\u001b[0m\u001b[0;34m\u001b[0m\u001b[0m\n\u001b[0;32m----> 3\u001b[0;31m \u001b[0;32mprint\u001b[0m\u001b[0;34m(\u001b[0m\u001b[0ma\u001b[0m \u001b[0;34m+\u001b[0m \u001b[0mb\u001b[0m\u001b[0;34m)\u001b[0m\u001b[0;34m\u001b[0m\u001b[0m\n\u001b[0m",
            "\u001b[0;31mTypeError\u001b[0m: unsupported operand type(s) for +: 'int' and 'str'"
          ]
        }
      ]
    },
    {
      "metadata": {
        "id": "O87PEyZENII6",
        "colab_type": "text"
      },
      "cell_type": "markdown",
      "source": [
        "However, it is dynamically typed, meaning 'a variable is simply a value bound to a name; the value has a type -- like \"integer\" or \"string\" or \"list\" -- but the variable itself doesn't. You could have a variable which, right now, holds a number, and later assign a string to it if you need it to change.'' as described in the [Python wiki](https://wiki.python.org/moin/Why%20is%20Python%20a%20dynamic%20language%20and%20also%20a%20strongly%20typed%20language). For example, this works:"
      ]
    },
    {
      "metadata": {
        "id": "RnWzAQ7TMbrG",
        "colab_type": "code",
        "colab": {}
      },
      "cell_type": "code",
      "source": [
        "a = 10\n",
        "a = 'Test'"
      ],
      "execution_count": 0,
      "outputs": []
    },
    {
      "metadata": {
        "id": "OmN3-1haKirK",
        "colab_type": "text"
      },
      "cell_type": "markdown",
      "source": [
        " ## Indentation\n",
        "\n",
        "Python uses the indentation level of the line to determine the grouping of statements instead of using braces or other characters.\n",
        "For example:"
      ]
    },
    {
      "metadata": {
        "id": "R7A_MqasLBtJ",
        "colab_type": "code",
        "outputId": "91ccfc61-bc0e-4e3f-919a-469a48ab5216",
        "colab": {
          "base_uri": "https://localhost:8080/",
          "height": 34
        }
      },
      "cell_type": "code",
      "source": [
        "# This piece of code will execute fine\n",
        "if True:\n",
        "  if True:\n",
        "    print('Indentation correct')"
      ],
      "execution_count": 0,
      "outputs": [
        {
          "output_type": "stream",
          "text": [
            "Indentation correct\n"
          ],
          "name": "stdout"
        }
      ]
    },
    {
      "metadata": {
        "id": "FmL_ONnOLQCK",
        "colab_type": "code",
        "outputId": "8fdb50d6-9558-4242-f1bf-f2d83d602f66",
        "colab": {
          "base_uri": "https://localhost:8080/",
          "height": 129
        }
      },
      "cell_type": "code",
      "source": [
        "# This piece of code will fail due to bad indentation\n",
        "if True:\n",
        "  if True:\n",
        "  print('Indentation correct')"
      ],
      "execution_count": 0,
      "outputs": [
        {
          "output_type": "error",
          "ename": "IndentationError",
          "evalue": "ignored",
          "traceback": [
            "\u001b[0;36m  File \u001b[0;32m\"<ipython-input-5-5e971eae7b92>\"\u001b[0;36m, line \u001b[0;32m3\u001b[0m\n\u001b[0;31m    print('Indentation correct')\u001b[0m\n\u001b[0m        ^\u001b[0m\n\u001b[0;31mIndentationError\u001b[0m\u001b[0;31m:\u001b[0m expected an indented block\n"
          ]
        }
      ]
    },
    {
      "metadata": {
        "id": "NI1mrDmOLhR4",
        "colab_type": "code",
        "outputId": "f710446e-1d67-4ff9-e447-24baf3ddb66e",
        "colab": {
          "base_uri": "https://localhost:8080/",
          "height": 129
        }
      },
      "cell_type": "code",
      "source": [
        "# This piece of code will also fail due to not using any indentation\n",
        "if True:\n",
        "if True:\n",
        "print('Indentation correct')"
      ],
      "execution_count": 0,
      "outputs": [
        {
          "output_type": "error",
          "ename": "IndentationError",
          "evalue": "ignored",
          "traceback": [
            "\u001b[0;36m  File \u001b[0;32m\"<ipython-input-6-71c059035cfc>\"\u001b[0;36m, line \u001b[0;32m2\u001b[0m\n\u001b[0;31m    if True:\u001b[0m\n\u001b[0m     ^\u001b[0m\n\u001b[0;31mIndentationError\u001b[0m\u001b[0;31m:\u001b[0m expected an indented block\n"
          ]
        }
      ]
    },
    {
      "metadata": {
        "id": "d9dOYDpmFk6I",
        "colab_type": "text"
      },
      "cell_type": "markdown",
      "source": [
        "## Control instructions\n",
        "\n",
        "To control the flow of your program control instructions are essential.\n",
        "\n",
        "* If/elif/else\n",
        "* Loops\n",
        "* Ternary expression"
      ]
    },
    {
      "metadata": {
        "id": "5hzTezdaFvBn",
        "colab_type": "code",
        "outputId": "e02837aa-8f5c-424f-a934-6b5db7d84295",
        "colab": {
          "base_uri": "https://localhost:8080/",
          "height": 34
        }
      },
      "cell_type": "code",
      "source": [
        "# if/elif/else\n",
        "# Check if the input number is odd or even\n",
        "num = 8\n",
        "if (num%2) == 0:\n",
        "  print(str(num)+\" is an even number.\")\n",
        "else:\n",
        "  print(str(num)+\" is an odd number.\")"
      ],
      "execution_count": 0,
      "outputs": [
        {
          "output_type": "stream",
          "text": [
            "8 is an even number.\n"
          ],
          "name": "stdout"
        }
      ]
    },
    {
      "metadata": {
        "id": "XfnbYvyPFxVG",
        "colab_type": "code",
        "outputId": "fde6c656-eedf-4280-bb9b-850602835211",
        "colab": {
          "base_uri": "https://localhost:8080/",
          "height": 34
        }
      },
      "cell_type": "code",
      "source": [
        "# if/elif/else\n",
        "# Check if the input number is positive, negative or zero\n",
        "num = 8\n",
        "if num == 0:\n",
        "  print(str(num) + \" is neither negative nor positive.\")\n",
        "elif num < 0:\n",
        "  print(str(num) + \" is a negative number.\")\n",
        "else:\n",
        "  print(str(num) + \" is a positive number.\")"
      ],
      "execution_count": 0,
      "outputs": [
        {
          "output_type": "stream",
          "text": [
            "8 is a positive number.\n"
          ],
          "name": "stdout"
        }
      ]
    },
    {
      "metadata": {
        "id": "_java7EMFyoH",
        "colab_type": "code",
        "outputId": "372c9288-f6a8-4659-9fe7-55ad9eca69e3",
        "colab": {
          "base_uri": "https://localhost:8080/",
          "height": 119
        }
      },
      "cell_type": "code",
      "source": [
        "# Loops\n",
        "# Display all the number within an interval\n",
        "left_bound = 1\n",
        "right_bound = 10\n",
        "step = 2\n",
        "print(\"The left closed interval is:\")\n",
        "# range generates a list of numbers generally used to iterate over\n",
        "# it is defined as range([start], stop[, step]), where start and step are\n",
        "# optional arguments\n",
        "for i in range(left_bound, right_bound, step):\n",
        "  print(i)"
      ],
      "execution_count": 0,
      "outputs": [
        {
          "output_type": "stream",
          "text": [
            "The left closed interval is:\n",
            "1\n",
            "3\n",
            "5\n",
            "7\n",
            "9\n"
          ],
          "name": "stdout"
        }
      ]
    },
    {
      "metadata": {
        "id": "o-GC7aGzQIWm",
        "colab_type": "text"
      },
      "cell_type": "markdown",
      "source": [
        "A ternary expression is defined in the way:\n",
        "\n",
        "``` variable = expression1 if condition else expression2 ```\n",
        "\n",
        "Where ```variable``` takes value ```expression1``` if ```condition``` is ```True```, or ```expression2``` if it is ```False```. An example is:\n",
        "\n"
      ]
    },
    {
      "metadata": {
        "id": "Je_7uoTNF0F-",
        "colab_type": "code",
        "outputId": "672086af-fb20-4514-d7f3-6466a5af7953",
        "colab": {
          "base_uri": "https://localhost:8080/",
          "height": 34
        }
      },
      "cell_type": "code",
      "source": [
        "# Ternary expression\n",
        "# To check if the input number is odd or even\n",
        "num = 10\n",
        "message = \"is an even number.\" if (num%2) == 0  else \"is an odd number.\"\n",
        "print(message)"
      ],
      "execution_count": 0,
      "outputs": [
        {
          "output_type": "stream",
          "text": [
            "is an even number.\n"
          ],
          "name": "stdout"
        }
      ]
    },
    {
      "metadata": {
        "id": "yZyxlr1RF1Um",
        "colab_type": "text"
      },
      "cell_type": "markdown",
      "source": [
        "\n",
        "## Functions\n",
        "\n",
        "[Official Reference Manual](https://docs.python.org/2.0/ref/function.html)\n",
        "\n",
        "Useful for organizing and reusing blocks of code and can be defined with two keywords, i.e, def and return. Def defines the function, followed by name and input parameters, and is used return is to come back to the call function, followed by output arguments. \n",
        "\n",
        "In a function it can be any number of input/output arguments and return statements. Besides, there are two types of input arguments: positional (without a name, order matters), keyword (with a name). Note that keyword arguments need to be defined after positional arguments, and they have a default value.\n",
        "\n",
        "Examples:"
      ]
    },
    {
      "metadata": {
        "id": "6zo52YpQF8vW",
        "colab_type": "code",
        "outputId": "b1c41b52-cd3a-4af5-b893-025dabc01ecc",
        "colab": {
          "base_uri": "https://localhost:8080/",
          "height": 34
        }
      },
      "cell_type": "code",
      "source": [
        "# Function, one positional argument\n",
        "# Check if the input number is odd or even\n",
        "def isOdd(num):\n",
        "  if (num%2) == 0:\n",
        "    return False\n",
        "  else:\n",
        "    return True\n",
        "\n",
        "\n",
        "def main():\n",
        "\tnum = 10\n",
        "\tanswer = isOdd(num)\n",
        "\tif answer == True:\n",
        "\t\tprint(\"The number is odd\")\n",
        "\telse:\n",
        "\t\tprint(\"The number is even\")\n",
        "    \n",
        "main()"
      ],
      "execution_count": 0,
      "outputs": [
        {
          "output_type": "stream",
          "text": [
            "The number is even\n"
          ],
          "name": "stdout"
        }
      ]
    },
    {
      "metadata": {
        "id": "Dz8KGrYjF-6W",
        "colab_type": "code",
        "outputId": "ace74c0f-46cb-47db-e5e7-1ab196773815",
        "colab": {
          "base_uri": "https://localhost:8080/",
          "height": 85
        }
      },
      "cell_type": "code",
      "source": [
        "# Function, one positional argument and two keyword arguments\n",
        "# Find the maximum among three values\n",
        "def max_of_three(num1, num2=15, num3=100):\n",
        "  if (num1 >= num2 and num1 >= num3):\n",
        "    return num1\n",
        "  elif (num2 >= num1 and num2 >= num3):\n",
        "    return num2\n",
        "  elif (num3 >= num1 and num3 >= num2):\n",
        "    return num3\n",
        "\n",
        "def main():\n",
        "  var1 = 10\n",
        "  var2 = 30\n",
        "  var3 = 20\n",
        "  # As no keywords are used, only position matters, so num1 = var1,\n",
        "  # num2 = var2 and num3 takes the default value of 100\n",
        "  max_num = max_of_three(var1, var2)\n",
        "  print(\"Max among \" + str(var1) + \", \"+str(var2) + \" and 100 is:\")\n",
        "  print(max_num)\n",
        "  \n",
        "  # As we use the keyword num3, then num2 takes the default value 15\n",
        "  # and num3 = var3\n",
        "  max_num = max_of_three(var1, num3=var3)\n",
        "  print(\"Max among \" + str(var1) + \", \"+str(var3) + \" and 15 is:\")\n",
        "  print(max_num)\n",
        "  \n",
        "\n",
        "main()"
      ],
      "execution_count": 0,
      "outputs": [
        {
          "output_type": "stream",
          "text": [
            "Max among 10, 30 and 100 is:\n",
            "100\n",
            "Max among 10, 20 and 15 is:\n",
            "20\n"
          ],
          "name": "stdout"
        }
      ]
    },
    {
      "metadata": {
        "id": "CfMrZSOmGBUW",
        "colab_type": "text"
      },
      "cell_type": "markdown",
      "source": [
        "## Exceptions \n",
        "\n",
        "[Official Documentation](https://docs.python.org/2/tutorial/errors.html)\n",
        "\n",
        "Handling errors and exceptions is crucial to have robust programs, which can be done by using ```try/except/else/finally```.\n",
        "\n",
        "First, the staments in the ```try``` clause are executed. If an exception is found, the rest of the ```try``` clause is skipped and the ```except``` clause is executed. If the ```try``` clause does not raise an exception, the ```else``` clause is then executed. And then, the ```finally``` clause is executed in all cases. \n",
        " "
      ]
    },
    {
      "metadata": {
        "id": "nwXPNXsiGAtl",
        "colab_type": "code",
        "outputId": "c8cc2ecd-ab3f-462c-f485-29b4df052f38",
        "colab": {
          "base_uri": "https://localhost:8080/",
          "height": 85
        }
      },
      "cell_type": "code",
      "source": [
        "# Converts a given input to float\n",
        "def string_to_float(string):\n",
        "  try:\n",
        "    string = float(string)\n",
        "  except:\n",
        "    print(\"Error\")\n",
        "  else:\n",
        "    print(\"Successfully converted\")\n",
        "  finally:\n",
        "    print(\"This is always executed\")\n",
        "\n",
        "\n",
        "def main():\n",
        "  # '7' can be casted to 7, so this works\n",
        "  num = string_to_float('7')\n",
        "  # float('hello') will raise an exception\n",
        "  num = string_to_float('hello')\n",
        "  \n",
        "main()"
      ],
      "execution_count": 0,
      "outputs": [
        {
          "output_type": "stream",
          "text": [
            "Successfully converted\n",
            "This is always executed\n",
            "Error\n",
            "This is always executed\n"
          ],
          "name": "stdout"
        }
      ]
    },
    {
      "metadata": {
        "id": "usn74xZaGGpF",
        "colab_type": "text"
      },
      "cell_type": "markdown",
      "source": [
        "## Data structures\n",
        "[Official Documentation](https://docs.python.org/2/tutorial/datastructures.html)\n",
        "\n",
        "Some basic structures are:\n",
        "\n",
        "* Tuple: fixed-length, immutable sequence of python object\n",
        "* List: variable length, mutable\n",
        "* Dict: hash map or associative array with key-values\n",
        "\n",
        "**Tuple examples**"
      ]
    },
    {
      "metadata": {
        "id": "YJSkbnewGMzt",
        "colab_type": "code",
        "outputId": "0c1e4fd1-7e43-4131-a7f9-8ea8850f64a5",
        "colab": {
          "base_uri": "https://localhost:8080/",
          "height": 34
        }
      },
      "cell_type": "code",
      "source": [
        "# Declaration\n",
        "warm_colours = ('red', 'orange', 'yellow')\n",
        "warm_colours[1]"
      ],
      "execution_count": 0,
      "outputs": [
        {
          "output_type": "execute_result",
          "data": {
            "text/plain": [
              "'orange'"
            ]
          },
          "metadata": {
            "tags": []
          },
          "execution_count": 14
        }
      ]
    },
    {
      "metadata": {
        "id": "QS9axfv5GNUt",
        "colab_type": "code",
        "outputId": "0689ac70-3b3b-487b-ea50-7f66d936fe69",
        "colab": {
          "base_uri": "https://localhost:8080/",
          "height": 34
        }
      },
      "cell_type": "code",
      "source": [
        "# Concatenation\n",
        "cool_colours = ('blu', 'green')\n",
        "colours = cool_colours + warm_colours\n",
        "# As tuples are immutable, concatenation creates a new tuple with\n",
        "# elements from cool_colours and warm_colours\n",
        "print(colours)"
      ],
      "execution_count": 0,
      "outputs": [
        {
          "output_type": "stream",
          "text": [
            "('blu', 'green', 'red', 'orange', 'yellow')\n"
          ],
          "name": "stdout"
        }
      ]
    },
    {
      "metadata": {
        "id": "5rQ4sxeCGMFW",
        "colab_type": "text"
      },
      "cell_type": "markdown",
      "source": [
        "**List examples**"
      ]
    },
    {
      "metadata": {
        "id": "3IZnZbk2GWYe",
        "colab_type": "code",
        "outputId": "91a983b6-e571-4720-e591-fa67f968f9c9",
        "colab": {
          "base_uri": "https://localhost:8080/",
          "height": 34
        }
      },
      "cell_type": "code",
      "source": [
        "# Declaration\n",
        "warm_colour=['red', 'orange']\n",
        "# Zero-indexing, first index is 0\n",
        "warm_colours[0]"
      ],
      "execution_count": 0,
      "outputs": [
        {
          "output_type": "execute_result",
          "data": {
            "text/plain": [
              "'red'"
            ]
          },
          "metadata": {
            "tags": []
          },
          "execution_count": 16
        }
      ]
    },
    {
      "metadata": {
        "id": "za2rHcPHGXlE",
        "colab_type": "code",
        "outputId": "afedf5a6-0808-44cd-c53e-1db7831cc8b9",
        "colab": {
          "base_uri": "https://localhost:8080/",
          "height": 34
        }
      },
      "cell_type": "code",
      "source": [
        "# Adding elements at the end\n",
        "warm_colour.append('yellow')\n",
        "print(warm_colour)"
      ],
      "execution_count": 0,
      "outputs": [
        {
          "output_type": "stream",
          "text": [
            "['red', 'orange', 'yellow']\n"
          ],
          "name": "stdout"
        }
      ]
    },
    {
      "metadata": {
        "id": "3CuQ42XRGYg0",
        "colab_type": "code",
        "outputId": "53a382de-583e-4901-d14d-92a1f1388e5f",
        "colab": {
          "base_uri": "https://localhost:8080/",
          "height": 34
        }
      },
      "cell_type": "code",
      "source": [
        "# Removing elements\n",
        "# pop without arguments removes the last element\n",
        "warm_colour.pop(1)\n",
        "print(warm_colour)"
      ],
      "execution_count": 0,
      "outputs": [
        {
          "output_type": "stream",
          "text": [
            "['red', 'yellow']\n"
          ],
          "name": "stdout"
        }
      ]
    },
    {
      "metadata": {
        "id": "alI6HUtyGZys",
        "colab_type": "code",
        "outputId": "9ecb68d4-5c9e-415d-b36d-e42652e80a0b",
        "colab": {
          "base_uri": "https://localhost:8080/",
          "height": 34
        }
      },
      "cell_type": "code",
      "source": [
        "# Concatenating\n",
        "cool_colours = ['blue', 'green']\n",
        "colours = cool_colours + warm_colour\n",
        "print(colours)"
      ],
      "execution_count": 0,
      "outputs": [
        {
          "output_type": "stream",
          "text": [
            "['blue', 'green', 'red', 'yellow']\n"
          ],
          "name": "stdout"
        }
      ]
    },
    {
      "metadata": {
        "id": "-BkMpOL5Gawt",
        "colab_type": "code",
        "outputId": "de9cff7d-52e5-4a1c-9e13-aa79a8e5ffad",
        "colab": {
          "base_uri": "https://localhost:8080/",
          "height": 34
        }
      },
      "cell_type": "code",
      "source": [
        "# Concatenating with extend method\n",
        "new_warm_colour = ['orange', 'purple']\n",
        "warm_colour.extend(new_warm_colour)\n",
        "print(warm_colour)"
      ],
      "execution_count": 0,
      "outputs": [
        {
          "output_type": "stream",
          "text": [
            "['red', 'yellow', 'orange', 'purple']\n"
          ],
          "name": "stdout"
        }
      ]
    },
    {
      "metadata": {
        "id": "oldPj_pnGb39",
        "colab_type": "code",
        "outputId": "a51768cc-a9fe-4de2-8b19-666d461e6c9e",
        "colab": {
          "base_uri": "https://localhost:8080/",
          "height": 34
        }
      },
      "cell_type": "code",
      "source": [
        "# Slicing\n",
        "warm_colour[1:3]"
      ],
      "execution_count": 0,
      "outputs": [
        {
          "output_type": "execute_result",
          "data": {
            "text/plain": [
              "['yellow', 'orange']"
            ]
          },
          "metadata": {
            "tags": []
          },
          "execution_count": 21
        }
      ]
    },
    {
      "metadata": {
        "id": "YbPhM3vCGc2l",
        "colab_type": "code",
        "outputId": "fa799b28-c473-4000-80f9-b171f9ce59ef",
        "colab": {
          "base_uri": "https://localhost:8080/",
          "height": 34
        }
      },
      "cell_type": "code",
      "source": [
        "# Negative index is used to index starting from the last element \n",
        "warm_colour[1:-1]"
      ],
      "execution_count": 0,
      "outputs": [
        {
          "output_type": "execute_result",
          "data": {
            "text/plain": [
              "['yellow', 'orange']"
            ]
          },
          "metadata": {
            "tags": []
          },
          "execution_count": 22
        }
      ]
    },
    {
      "metadata": {
        "id": "pNHGvn9-GeUl",
        "colab_type": "text"
      },
      "cell_type": "markdown",
      "source": [
        "**Dictionary examples**"
      ]
    },
    {
      "metadata": {
        "id": "fjERyjtQGikf",
        "colab_type": "code",
        "outputId": "0ffb950a-1b0a-42dd-829b-a0b16f273eaf",
        "colab": {
          "base_uri": "https://localhost:8080/",
          "height": 34
        }
      },
      "cell_type": "code",
      "source": [
        "# Declaration\n",
        "population = {'UK': 66740000, 'Italy': 59290000, 'France': 65230000}\n",
        "print(population)"
      ],
      "execution_count": 0,
      "outputs": [
        {
          "output_type": "stream",
          "text": [
            "{'Italy': 59290000, 'UK': 66740000, 'France': 65230000}\n"
          ],
          "name": "stdout"
        }
      ]
    },
    {
      "metadata": {
        "id": "DKbHg8fXGjYs",
        "colab_type": "code",
        "outputId": "917e7509-e634-43d0-f5a7-81868caf606f",
        "colab": {
          "base_uri": "https://localhost:8080/",
          "height": 34
        }
      },
      "cell_type": "code",
      "source": [
        "# Access\n",
        "population['France']"
      ],
      "execution_count": 0,
      "outputs": [
        {
          "output_type": "execute_result",
          "data": {
            "text/plain": [
              "65230000"
            ]
          },
          "metadata": {
            "tags": []
          },
          "execution_count": 24
        }
      ]
    },
    {
      "metadata": {
        "id": "A3QglIhQGkx1",
        "colab_type": "code",
        "outputId": "30ddd9e6-c17a-4ce7-c2cc-0043cb18346a",
        "colab": {
          "base_uri": "https://localhost:8080/",
          "height": 51
        }
      },
      "cell_type": "code",
      "source": [
        "# Removing with pop\n",
        "elem = population.pop('Italy')\n",
        "print(elem)\n",
        "print(population)"
      ],
      "execution_count": 0,
      "outputs": [
        {
          "output_type": "stream",
          "text": [
            "59290000\n",
            "{'UK': 66740000, 'France': 65230000}\n"
          ],
          "name": "stdout"
        }
      ]
    },
    {
      "metadata": {
        "id": "aQ4lhs1_Gl3c",
        "colab_type": "code",
        "outputId": "cdee0e99-6556-4e7c-bfdd-ba2692ee63d9",
        "colab": {
          "base_uri": "https://localhost:8080/",
          "height": 34
        }
      },
      "cell_type": "code",
      "source": [
        "# Merge two dictionaries\n",
        "population_other_countries = {'China': 1386000000, 'Spain': 46570000}\n",
        "population.update(population_other_countries)\n",
        "print(population)"
      ],
      "execution_count": 0,
      "outputs": [
        {
          "output_type": "stream",
          "text": [
            "{'China': 1386000000, 'Spain': 46570000, 'UK': 66740000, 'France': 65230000}\n"
          ],
          "name": "stdout"
        }
      ]
    },
    {
      "metadata": {
        "id": "e2hFufbvgHBV",
        "colab_type": "text"
      },
      "cell_type": "markdown",
      "source": [
        "## Classes\n",
        "[Official Documentation](https://docs.python.org/2/tutorial/classes.html)\n",
        "\n",
        "A class is a collection of data and functions (called methods of the class). To define a class, you need to use the `class` keyword."
      ]
    },
    {
      "metadata": {
        "id": "-k6-9rHqlz8p",
        "colab_type": "code",
        "outputId": "097b3942-7c12-48bb-a8ed-d6c7d6fabde0",
        "colab": {
          "base_uri": "https://localhost:8080/",
          "height": 51
        }
      },
      "cell_type": "code",
      "source": [
        "class CoordinatesClass:\n",
        "  def __init__(self, x=10, y=2):\n",
        "    self.x = x\n",
        "    self.y = y\n",
        "   \n",
        "  def printVar(self):\n",
        "    # Here is a guide to format strings! https://pyformat.info/\n",
        "    print(\"Coordinates: ({}, {})\".format(self.x, self.y))\n",
        "    \n",
        "coor = CoordinatesClass(19, 23.3)\n",
        "print(coor.x)\n",
        "coor.printVar()"
      ],
      "execution_count": 0,
      "outputs": [
        {
          "output_type": "stream",
          "text": [
            "19\n",
            "Coordinates: (19, 23.3)\n"
          ],
          "name": "stdout"
        }
      ]
    },
    {
      "metadata": {
        "id": "GhDBmB7AmJ2Q",
        "colab_type": "text"
      },
      "cell_type": "markdown",
      "source": [
        "The `__init__` method will be called when the object is initialized. The `self` variable in the class refers to the current instance of the object, used to access its variables and methods. It is [explained better here](https://pythontips.com/2013/08/07/the-self-variable-in-python-explained/).  The object will save the variables x and y, which can be accessed using `coor.x` or `coor.y`. We also can use the defined method `printVar` using the same format, `coor.printVar()`"
      ]
    },
    {
      "metadata": {
        "id": "mz1FDbYnfdzC",
        "colab_type": "text"
      },
      "cell_type": "markdown",
      "source": [
        "## Modules\n",
        "\n",
        "[Official Documentation](https://docs.python.org/2.7/tutorial/modules.html)\n",
        "\n",
        "If you want to build longer programs, it will be necessary for easier maintenance to define functions, or classes in different files. The file with the different Python definitions is what is called a module. Additionally, a collection of modules is called a package.\n",
        "\n",
        "There are several packages that are used frequently in for scientific computation in Python, such as Numpy, as we will see in the second part of this tutorial.\n",
        "\n",
        "To use the modules or packages in your current Python script, you need to use ```import```. For example, if we want to import the math package, we use:"
      ]
    },
    {
      "metadata": {
        "id": "EYjzx8tKgGYx",
        "colab_type": "code",
        "colab": {}
      },
      "cell_type": "code",
      "source": [
        "import math"
      ],
      "execution_count": 0,
      "outputs": []
    },
    {
      "metadata": {
        "id": "7JVXXKTujNZR",
        "colab_type": "text"
      },
      "cell_type": "markdown",
      "source": [
        "Now we have access to the numpy definitions by calling ```math.definition```, for example:"
      ]
    },
    {
      "metadata": {
        "id": "B2Mh7hdrjfs9",
        "colab_type": "code",
        "outputId": "e7eda425-055d-4951-f403-b02086b4c509",
        "colab": {
          "base_uri": "https://localhost:8080/",
          "height": 34
        }
      },
      "cell_type": "code",
      "source": [
        "# This function returns the smallest integer not less than x\n",
        "math.ceil(3.7)"
      ],
      "execution_count": 0,
      "outputs": [
        {
          "output_type": "execute_result",
          "data": {
            "text/plain": [
              "4.0"
            ]
          },
          "metadata": {
            "tags": []
          },
          "execution_count": 29
        }
      ]
    },
    {
      "metadata": {
        "id": "xmah3sygjtRh",
        "colab_type": "text"
      },
      "cell_type": "markdown",
      "source": [
        "We may want to import the package using another name, then we use `as`:"
      ]
    },
    {
      "metadata": {
        "id": "YD-HXtaWj0pz",
        "colab_type": "code",
        "outputId": "917ab8ac-3b87-4f94-f569-625eedbdb6cb",
        "colab": {
          "base_uri": "https://localhost:8080/",
          "height": 34
        }
      },
      "cell_type": "code",
      "source": [
        "import math as m\n",
        "m.ceil(3.7)"
      ],
      "execution_count": 0,
      "outputs": [
        {
          "output_type": "execute_result",
          "data": {
            "text/plain": [
              "4.0"
            ]
          },
          "metadata": {
            "tags": []
          },
          "execution_count": 30
        }
      ]
    },
    {
      "metadata": {
        "id": "c4LRTQ-6j_uo",
        "colab_type": "text"
      },
      "cell_type": "markdown",
      "source": [
        "You can also import definitions from the package to your local symbol table (i.e. without needing to use the `package.definition` format to call it) using `from`: "
      ]
    },
    {
      "metadata": {
        "id": "Y9XgjVYWj_P_",
        "colab_type": "code",
        "outputId": "9dd10d48-3512-4728-aab8-42bc2393386c",
        "colab": {
          "base_uri": "https://localhost:8080/",
          "height": 34
        }
      },
      "cell_type": "code",
      "source": [
        "from math import ceil\n",
        "ceil(3.7)"
      ],
      "execution_count": 0,
      "outputs": [
        {
          "output_type": "execute_result",
          "data": {
            "text/plain": [
              "4.0"
            ]
          },
          "metadata": {
            "tags": []
          },
          "execution_count": 31
        }
      ]
    },
    {
      "metadata": {
        "id": "zqcBpErvkc81",
        "colab_type": "code",
        "outputId": "01d99f57-bc31-43f9-ed88-426573d524d5",
        "colab": {
          "base_uri": "https://localhost:8080/",
          "height": 34
        }
      },
      "cell_type": "code",
      "source": [
        "# You can also combine from and as\n",
        "from math import ceil as c\n",
        "c(5.7)"
      ],
      "execution_count": 0,
      "outputs": [
        {
          "output_type": "execute_result",
          "data": {
            "text/plain": [
              "6.0"
            ]
          },
          "metadata": {
            "tags": []
          },
          "execution_count": 32
        }
      ]
    }
  ]
}