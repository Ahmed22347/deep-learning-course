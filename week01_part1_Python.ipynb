{
  "nbformat": 4,
  "nbformat_minor": 0,
  "metadata": {
    "colab": {
      "name": "Week01_python.ipynb",
      "version": "0.3.2",
      "provenance": [],
      "collapsed_sections": [],
      "include_colab_link": true
    },
    "kernelspec": {
      "name": "python3",
      "display_name": "Python 3"
    }
  },
  "cells": [
    {
      "cell_type": "markdown",
      "metadata": {
        "id": "view-in-github",
        "colab_type": "text"
      },
      "source": [
        "<a href=\"https://colab.research.google.com/github/MatchLab-Imperial/deep-learning-course/blob/master/week01_part1_Python.ipynb\" target=\"_parent\"><img src=\"https://colab.research.google.com/assets/colab-badge.svg\" alt=\"Open In Colab\"/></a>"
      ]
    },
    {
      "metadata": {
        "id": "PUuElI5DdMGw",
        "colab_type": "text"
      },
      "cell_type": "markdown",
      "source": [
        "In this lesson, we introduce some basic concepts about Python, the programming language we will use for the rest of deep learning course.  \n",
        "\n",
        "**Introduction. ** In contrast with compiled languages, e.g, C, Java, where instructions in the source code are translated in a lower-level language before to be run, Python is an interpreted language and instructions are directly executed without any intermediate steps. \n",
        ">  *   Pro - platform independence, easy of debugging, rapid prototyping\n",
        ">  *   Cons - lower execution speed\n",
        "\n",
        "Python interpreter can be invoked anytime on the command line by typing “Python”. Then, it will execute each statement at a time, that you type on the command line followed by “enter”, as in the following example:\n",
        "\n",
        "\n",
        "\n"
      ]
    },
    {
      "metadata": {
        "id": "Q5WpzKhbeQjW",
        "colab_type": "code",
        "outputId": "45820d5a-73d0-4867-987b-9b4261a73d31",
        "colab": {
          "base_uri": "https://localhost:8080/",
          "height": 34
        }
      },
      "cell_type": "code",
      "source": [
        "print ('Hello world!')"
      ],
      "execution_count": 0,
      "outputs": [
        {
          "output_type": "stream",
          "text": [
            "Hello world!\n"
          ],
          "name": "stdout"
        }
      ]
    },
    {
      "metadata": {
        "id": "ahCbFF-xhTs4",
        "colab_type": "text"
      },
      "cell_type": "markdown",
      "source": [
        ""
      ]
    },
    {
      "metadata": {
        "id": "5uF7B2ILe2_J",
        "colab_type": "text"
      },
      "cell_type": "markdown",
      "source": [
        "\n",
        "If you are in the Python interpreter mode, you can exit from it simple typing *exit()*.\n",
        "\n",
        "We will use Jupyter Notebooks for the tutorials as we can integrate code and visualizations in the same document, but you can write instructions on a .py file by using your favourite text editor and run it., e.g, *hello_world.py* and next, execute it from the terminal with *python hello_world.py*\n",
        "\n",
        "\n",
        "**Data type.** Everything in Python is an object with a type and correspondent data. \n",
        "> * Numeric type: None, str, unicode, float (64 bit), bool, int, long\n",
        "> * String\n",
        "> * Boolean: True, False\n",
        "\n",
        "\n",
        "In contrast with other compiled languages, e.g, C, Java, Python is **strongly-typed language**, which means anytime you declare a variable you do not need to specify its type. However sometime cast operator is needed to store data with the desiderable precision. \n"
      ]
    },
    {
      "metadata": {
        "id": "uA1agI0mg77R",
        "colab_type": "text"
      },
      "cell_type": "markdown",
      "source": [
        "**Control instructions.** To control the flow of your program control instructions are essential.\n",
        "> * If/elif/else → e.g., control_instruction_1.py/control_instruction_2.py\n",
        "> * Loops →  e.g., control_instruction_3.py/control_instruction_4.py\n",
        "> * Ternary expression → control_instruction_5.py\n"
      ]
    },
    {
      "metadata": {
        "id": "zAgcwaGvpzjm",
        "colab_type": "code",
        "outputId": "cbb38ec1-9b14-4c0d-d3db-216746750c2d",
        "colab": {
          "base_uri": "https://localhost:8080/",
          "height": 34
        }
      },
      "cell_type": "code",
      "source": [
        "# if/elif/else\n",
        "# Check if the input number is odd or even\n",
        "num =8\n",
        "if (num%2)==0:\n",
        "    print(str(num)+\" is an even number.\")\n",
        "else:\n",
        "\t  print(str(num)+\" is an odd number.\")\n"
      ],
      "execution_count": 0,
      "outputs": [
        {
          "output_type": "stream",
          "text": [
            "8 is an even number.\n"
          ],
          "name": "stdout"
        }
      ]
    },
    {
      "metadata": {
        "id": "BkDHgHqAqnFT",
        "colab_type": "code",
        "outputId": "8152030d-7937-414a-f2c7-887b57d3aab3",
        "colab": {
          "base_uri": "https://localhost:8080/",
          "height": 34
        }
      },
      "cell_type": "code",
      "source": [
        "# if/elif/else\n",
        "# Check if the input number is positive, negative or zero\n",
        "num =8\n",
        "if num==0:\n",
        "    print (str(num)+\" is neither negative nor positive.\")\n",
        "elif num<0:\n",
        "\t    print (str(num)+\" is a negative number.\")\n",
        "else:\n",
        "\tprint (str(num)+ \" is a positive number.\")\n"
      ],
      "execution_count": 0,
      "outputs": [
        {
          "output_type": "stream",
          "text": [
            "8 is a positive number.\n"
          ],
          "name": "stdout"
        }
      ]
    },
    {
      "metadata": {
        "id": "MTBgaqR8q6fy",
        "colab_type": "code",
        "outputId": "90c28fd4-fa11-4775-a203-b2ea1603a2ad",
        "colab": {
          "base_uri": "https://localhost:8080/",
          "height": 119
        }
      },
      "cell_type": "code",
      "source": [
        "# Loops\n",
        "# Display all the number within an interval\n",
        "left_bound =1\n",
        "right_bound =10\n",
        "step =2\n",
        "print(\"The left closed interval is:\")\n",
        "for i in range(left_bound,right_bound,step):\n",
        "\tprint(i)\n",
        "\n"
      ],
      "execution_count": 0,
      "outputs": [
        {
          "output_type": "stream",
          "text": [
            "The left closed interval is:\n",
            "1\n",
            "3\n",
            "5\n",
            "7\n",
            "9\n"
          ],
          "name": "stdout"
        }
      ]
    },
    {
      "metadata": {
        "id": "uYEAMLnGrPVZ",
        "colab_type": "code",
        "outputId": "0846d382-fee6-4b37-8cde-369c8e329d7d",
        "colab": {
          "base_uri": "https://localhost:8080/",
          "height": 34
        }
      },
      "cell_type": "code",
      "source": [
        "# Ternary expression\n",
        "# To check if the input number is odd or even\n",
        "num =10\n",
        "message=\"is an even number.\" if (num%2)==0  else \"is an odd number.\"\n",
        "print(message)\n"
      ],
      "execution_count": 0,
      "outputs": [
        {
          "output_type": "stream",
          "text": [
            "is an even number.\n"
          ],
          "name": "stdout"
        }
      ]
    },
    {
      "metadata": {
        "id": "tWfRzneOr101",
        "colab_type": "text"
      },
      "cell_type": "markdown",
      "source": [
        "**Function. **Usefull for organizing and reusing block of code and can be fully defined with two keywords, i.e, def and return: the first **def** is to declare functions, followed by name and input parameters, the latter **return** is to come back to the call function, followed by output arguments. \n",
        "In a function it can be any number of  input/output arguments and return statements. Beside, there are two type of input arguments: **positional** (without a name), **keyword** (with a name). Note that keyword arguments need to be defined before positional arguments.\n",
        "\n",
        "Examples --> function_1.py, function_2.py\n",
        "\n"
      ]
    },
    {
      "metadata": {
        "id": "Wiqm2WX9rp0R",
        "colab_type": "code",
        "outputId": "943dc5b2-c936-4882-9041-1960793eb6e2",
        "colab": {
          "base_uri": "https://localhost:8080/",
          "height": 34
        }
      },
      "cell_type": "code",
      "source": [
        "# Function\n",
        "# Check if the input number is odd or even\n",
        "def isOdd(num):\n",
        "\tif (num%2)==0:\n",
        "\t\t\treturn False\n",
        "\telse:\n",
        "\t\t\treturn True\n",
        "\n",
        "\n",
        "def main():\n",
        "\tnum =10\n",
        "\tanswer=isOdd(num)\n",
        "\tif answer==True:\n",
        "\t\tprint(\"The number is odd\")\n",
        "\telse:\n",
        "\t\tprint(\"The number is even\")\n",
        "\t\t\n",
        "if __name__==  \"__main__\" :\n",
        "\tmain()"
      ],
      "execution_count": 0,
      "outputs": [
        {
          "output_type": "stream",
          "text": [
            "The number is even\n"
          ],
          "name": "stdout"
        }
      ]
    },
    {
      "metadata": {
        "id": "_kxsg-P3r3bT",
        "colab_type": "code",
        "outputId": "f97f85e4-502f-450f-ab37-4cb3a5f1c103",
        "colab": {
          "base_uri": "https://localhost:8080/",
          "height": 51
        }
      },
      "cell_type": "code",
      "source": [
        "# Function\n",
        "# Find the maximum among three values\n",
        "def max_of_three(num1,num2,num3=100):\n",
        "\tif (num1>=num2 and num1>=num3):\n",
        "\t\t\treturn num1\n",
        "\telif (num2>=num1 and num2>=num3):\n",
        "\t\t\treturn num2\n",
        "\telif (num3>=num1 and num3>=num2):\n",
        "\t\t\treturn num3\n",
        "\n",
        "def main():\n",
        "\t\n",
        "\tnum1=10\n",
        "\tnum2=30\n",
        "\tmax_num=max_of_three(num1,num2)\n",
        "\t\n",
        "\tprint(\"Max among \"+str(num1)+\" \"+str(num2)+\" and 100 is:\")\n",
        "\tprint(max_num)\n",
        "\t\t\t\n",
        "if __name__==  \"__main__\" :\n",
        "\tmain()"
      ],
      "execution_count": 0,
      "outputs": [
        {
          "output_type": "stream",
          "text": [
            "Max among 10 30 and 100 is:\n",
            "100\n"
          ],
          "name": "stdout"
        }
      ]
    },
    {
      "metadata": {
        "id": "-r-hfo0WsDci",
        "colab_type": "text"
      },
      "cell_type": "markdown",
      "source": [
        "**Exception. **Handling errors and exceptions is crucial to have a robust programs. \n",
        "> * try/except/finally → exception_1.py\n",
        "\n",
        "\n"
      ]
    },
    {
      "metadata": {
        "id": "KGlEi_x_sRJc",
        "colab_type": "code",
        "outputId": "d1d569cd-435a-4197-e879-6f946f2660c3",
        "colab": {
          "base_uri": "https://localhost:8080/",
          "height": 51
        }
      },
      "cell_type": "code",
      "source": [
        "# Convert a given input to float\n",
        "def string_to_float(string):\n",
        "\ttry:\n",
        "\t\t\tstring=float(string)\n",
        "\t\t\n",
        "\texcept:\n",
        "\t\t\tprint(\"Error\")\n",
        "\telse:\n",
        "\t\tprint(\"Successfully converted\")\n",
        "\tfinally:\n",
        "\t\tprint(\"Finished\")\n",
        "\n",
        "\t\t\t\t\t\n",
        "def main():\n",
        "\n",
        "\tmax_num=string_to_float('hello')\n",
        "\n",
        "\t\n",
        "if __name__==  \"__main__\" :\n",
        "\tmain()\n"
      ],
      "execution_count": 0,
      "outputs": [
        {
          "output_type": "stream",
          "text": [
            "Error\n",
            "Finished\n"
          ],
          "name": "stdout"
        }
      ]
    },
    {
      "metadata": {
        "id": "3vIxzBCxsYc6",
        "colab_type": "text"
      },
      "cell_type": "markdown",
      "source": [
        "**Data structure.**\n",
        "> * Tuple: fixed-length, immutable sequence of python object\n",
        "> * List: variable length, mutable\n",
        "> * Dict: hash map or associative array with key-values\n"
      ]
    },
    {
      "metadata": {
        "id": "NL02RGUhX2Yx",
        "colab_type": "text"
      },
      "cell_type": "markdown",
      "source": [
        "**Tuple example**"
      ]
    },
    {
      "metadata": {
        "id": "kdHU4WM3X6i2",
        "colab_type": "code",
        "outputId": "c5f0c878-ccf3-49a9-e08c-3f2fe92c0fac",
        "colab": {
          "base_uri": "https://localhost:8080/",
          "height": 34
        }
      },
      "cell_type": "code",
      "source": [
        "#declaration\n",
        "warm_colours=('red','orange','yellow')\n",
        "warm_colours[1]\n"
      ],
      "execution_count": 0,
      "outputs": [
        {
          "output_type": "execute_result",
          "data": {
            "text/plain": [
              "'orange'"
            ]
          },
          "metadata": {
            "tags": []
          },
          "execution_count": 16
        }
      ]
    },
    {
      "metadata": {
        "id": "EotfcD_MZaeg",
        "colab_type": "code",
        "outputId": "945c82c7-549f-4ff2-c278-d46e39220a09",
        "colab": {
          "base_uri": "https://localhost:8080/",
          "height": 34
        }
      },
      "cell_type": "code",
      "source": [
        "#concatenation\n",
        "cool_colours=('blu','green')\n",
        "colours=cool_colours+warm_colours\n",
        "print(colours)"
      ],
      "execution_count": 0,
      "outputs": [
        {
          "output_type": "stream",
          "text": [
            "('blu', 'green', 'red', 'orange', 'yellow')\n"
          ],
          "name": "stdout"
        }
      ]
    },
    {
      "metadata": {
        "id": "O6zIsThIsf-I",
        "colab_type": "text"
      },
      "cell_type": "markdown",
      "source": [
        "**List examples**"
      ]
    },
    {
      "metadata": {
        "id": "bn9qowPVaABZ",
        "colab_type": "code",
        "outputId": "01011491-4bc5-4278-fbac-f075e870aeaf",
        "colab": {
          "base_uri": "https://localhost:8080/",
          "height": 34
        }
      },
      "cell_type": "code",
      "source": [
        "#declaration\n",
        "warm_colour=['red','orange']\n",
        "warm_colours[0]"
      ],
      "execution_count": 0,
      "outputs": [
        {
          "output_type": "execute_result",
          "data": {
            "text/plain": [
              "'red'"
            ]
          },
          "metadata": {
            "tags": []
          },
          "execution_count": 50
        }
      ]
    },
    {
      "metadata": {
        "id": "C10qYOiraoGA",
        "colab_type": "code",
        "outputId": "a3dcfe35-5f51-43fc-c837-a70e01e1974f",
        "colab": {
          "base_uri": "https://localhost:8080/",
          "height": 34
        }
      },
      "cell_type": "code",
      "source": [
        "#adding elements\n",
        "warm_colour.append('yellow')\n",
        "print(warm_colour)"
      ],
      "execution_count": 0,
      "outputs": [
        {
          "output_type": "stream",
          "text": [
            "['red', 'orange', 'yellow']\n"
          ],
          "name": "stdout"
        }
      ]
    },
    {
      "metadata": {
        "id": "U2ol-nAPbIbU",
        "colab_type": "code",
        "outputId": "195c45d2-64a6-48c2-cee8-7d1fa8e72e58",
        "colab": {
          "base_uri": "https://localhost:8080/",
          "height": 34
        }
      },
      "cell_type": "code",
      "source": [
        "#removing elements\n",
        "warm_colour.pop(1)\n",
        "print(warm_colour)"
      ],
      "execution_count": 0,
      "outputs": [
        {
          "output_type": "stream",
          "text": [
            "['red', 'yellow']\n"
          ],
          "name": "stdout"
        }
      ]
    },
    {
      "metadata": {
        "id": "JU_yD07ybfrv",
        "colab_type": "code",
        "outputId": "7ae19375-83a0-46b6-b315-f418e8e82f9f",
        "colab": {
          "base_uri": "https://localhost:8080/",
          "height": 34
        }
      },
      "cell_type": "code",
      "source": [
        "#concatenating\n",
        "cool_colours=['blue','green']\n",
        "colours=cool_colours+warm_colour\n",
        "print(colours)"
      ],
      "execution_count": 0,
      "outputs": [
        {
          "output_type": "stream",
          "text": [
            "['blue', 'green', 'red', 'yellow']\n"
          ],
          "name": "stdout"
        }
      ]
    },
    {
      "metadata": {
        "id": "Y_FOFaHrb-FA",
        "colab_type": "code",
        "outputId": "0bb03d65-1378-43e9-d3b8-b54f839e5005",
        "colab": {
          "base_uri": "https://localhost:8080/",
          "height": 34
        }
      },
      "cell_type": "code",
      "source": [
        "#concatenating with extend method\n",
        "new_warm_colour=['orange','purple']\n",
        "warm_colour.extend(new_warm_colour)\n",
        "print(warm_colour)"
      ],
      "execution_count": 0,
      "outputs": [
        {
          "output_type": "stream",
          "text": [
            "['red', 'yellow', 'orange', 'purple']\n"
          ],
          "name": "stdout"
        }
      ]
    },
    {
      "metadata": {
        "id": "Lg6TexcbdE8M",
        "colab_type": "code",
        "outputId": "7bb983cc-f0fc-4425-c1f0-47a55afa8cf4",
        "colab": {
          "base_uri": "https://localhost:8080/",
          "height": 34
        }
      },
      "cell_type": "code",
      "source": [
        "#slicing\n",
        "warm_colour[1:3]"
      ],
      "execution_count": 0,
      "outputs": [
        {
          "output_type": "execute_result",
          "data": {
            "text/plain": [
              "['yellow', 'orange']"
            ]
          },
          "metadata": {
            "tags": []
          },
          "execution_count": 55
        }
      ]
    },
    {
      "metadata": {
        "id": "QdpkEmxPdeJp",
        "colab_type": "code",
        "outputId": "746e6496-26ed-4db8-bcd4-8af4ec49f64d",
        "colab": {
          "base_uri": "https://localhost:8080/",
          "height": 34
        }
      },
      "cell_type": "code",
      "source": [
        "warm_colour[1:-1]"
      ],
      "execution_count": 0,
      "outputs": [
        {
          "output_type": "execute_result",
          "data": {
            "text/plain": [
              "['yellow', 'orange']"
            ]
          },
          "metadata": {
            "tags": []
          },
          "execution_count": 60
        }
      ]
    },
    {
      "metadata": {
        "id": "GkDf1eNGbeSW",
        "colab_type": "text"
      },
      "cell_type": "markdown",
      "source": [
        "**Dictionary examples**"
      ]
    },
    {
      "metadata": {
        "id": "s-aIQ-zQemJk",
        "colab_type": "code",
        "outputId": "048eefee-0c9b-4d22-83d3-c57362079ac4",
        "colab": {
          "base_uri": "https://localhost:8080/",
          "height": 34
        }
      },
      "cell_type": "code",
      "source": [
        "#declaration\n",
        "population={'United Kingdom':66740000,'Italy':59290000,'French':65230000,'Belgium':None}\n",
        "print(population)"
      ],
      "execution_count": 0,
      "outputs": [
        {
          "output_type": "stream",
          "text": [
            "{'United Kingdom': 66740000, 'Italy': 59290000, 'French': 65230000, 'Belgium': None}\n"
          ],
          "name": "stdout"
        }
      ]
    },
    {
      "metadata": {
        "id": "KIxsKE9zgS-Y",
        "colab_type": "code",
        "outputId": "dab9f8f7-4aad-43a2-849b-21238df8be3b",
        "colab": {
          "base_uri": "https://localhost:8080/",
          "height": 34
        }
      },
      "cell_type": "code",
      "source": [
        "#access\n",
        "population['French']\n"
      ],
      "execution_count": 0,
      "outputs": [
        {
          "output_type": "execute_result",
          "data": {
            "text/plain": [
              "65230000"
            ]
          },
          "metadata": {
            "tags": []
          },
          "execution_count": 82
        }
      ]
    },
    {
      "metadata": {
        "id": "1g0Ba-mfghAw",
        "colab_type": "code",
        "outputId": "cb040b9c-88c0-481d-f152-c93b5565ceea",
        "colab": {
          "base_uri": "https://localhost:8080/",
          "height": 51
        }
      },
      "cell_type": "code",
      "source": [
        "#removing with pop\n",
        "elem=population.pop('Italy')\n",
        "print(elem)\n",
        "print(population)"
      ],
      "execution_count": 0,
      "outputs": [
        {
          "output_type": "stream",
          "text": [
            "59290969\n",
            "{'United Kingdom': 66739364, 'French': 65233271, 'Belgium': None}\n"
          ],
          "name": "stdout"
        }
      ]
    },
    {
      "metadata": {
        "id": "pDdthbQuhbQP",
        "colab_type": "code",
        "outputId": "aaefb88b-e282-445b-863f-faa2138bc7d3",
        "colab": {
          "base_uri": "https://localhost:8080/",
          "height": 34
        }
      },
      "cell_type": "code",
      "source": [
        "#merge two dictionaries\n",
        "population_other_countries={'China':1386000000,'Spain':46570000,'Greece':10770000}\n",
        "population.update(population_other_countries)\n",
        "print(population)"
      ],
      "execution_count": 0,
      "outputs": [
        {
          "output_type": "stream",
          "text": [
            "{'United Kingdom': 66740000, 'Italy': 59290000, 'French': 65230000, 'Belgium': None, 'China': 1386000000, 'Spain': 46570000, 'Greece': 10770000}\n"
          ],
          "name": "stdout"
        }
      ]
    }
  ]
}